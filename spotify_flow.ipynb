{
 "cells": [
  {
   "cell_type": "code",
   "execution_count": 1,
   "metadata": {},
   "outputs": [
    {
     "data": {
      "text/plain": [
       "\"This workflow produces a Spotify playlist in the specified user's account based on recommendations\\nof three randomly selected genres\""
      ]
     },
     "execution_count": 1,
     "metadata": {},
     "output_type": "execute_result"
    }
   ],
   "source": [
    "\"\"\"This workflow produces a Spotify playlist in the specified user's account based on recommendations\n",
    "of three randomly selected genres\"\"\""
   ]
  },
  {
   "cell_type": "code",
   "execution_count": 60,
   "metadata": {},
   "outputs": [],
   "source": [
    "import spotipy\n",
    "import pandas as pd\n",
    "from spotipy.oauth2 import SpotifyOAuth\n",
    "from spotipy.oauth2 import SpotifyClientCredentials\n",
    "import random\n",
    "from datetime import datetime\n",
    "\n",
    "# Opens a file with the format \"Client ID:<CLIENT ID>\\nClient Secret:<CLIENT SECRET>\\n\"\n",
    "# and accesses Spotify with those credentials (that last line break MUST be there or IT WON'T WORK)\n",
    "\n",
    "secret_file_name = \"spotify_creds.txt\"\n",
    "\n",
    "secrets_dict = {}\n",
    "\n",
    "secret_file = open(\"spotify_creds.txt\")\n",
    "\n",
    "for line in secret_file:\n",
    "\tkey, val = line.split(\":\")\n",
    "\tsecrets_dict[key] = val[:-1]\n",
    "\n",
    "secret_file.close()\n",
    "\n",
    "sp = spotipy.Spotify(auth_manager=SpotifyOAuth(client_id=secrets_dict[\"Client ID\"],\n",
    "                                               client_secret=secrets_dict[\"Client Secret\"],\n",
    "                                               redirect_uri=\"https://localhost:8080/callback\",\n",
    "                                               scope=[\"user-library-read,playlist-modify-private,playlist-modify-public\"]))"
   ]
  },
  {
   "cell_type": "code",
   "execution_count": 61,
   "metadata": {},
   "outputs": [],
   "source": [
    "username = \"bogpoet\""
   ]
  },
  {
   "cell_type": "code",
   "execution_count": 62,
   "metadata": {},
   "outputs": [],
   "source": [
    "# gets the entire list of genres from Spotify\n",
    "genres = sp.recommendation_genre_seeds()"
   ]
  },
  {
   "cell_type": "code",
   "execution_count": 63,
   "metadata": {},
   "outputs": [],
   "source": [
    "# defines genre lists for each mood and picks five at random to create the playlist\n",
    "city_mood = ['acoustic',\n",
    "  'ambient',\n",
    "  'bluegrass',\n",
    "  'blues',\n",
    "  'bossanova',\n",
    "  'chill',\n",
    "  'classical',\n",
    "  'piano',\n",
    "  'r-n-b',\n",
    "  'rainy-day',\n",
    "  'soul'\n",
    "]\n",
    "\n",
    "open_road_mood = [  'anime',\n",
    "  'country',\n",
    "  'folk',\n",
    "  'funk',\n",
    "  'groove',\n",
    "  'happy',\n",
    "  'holidays',\n",
    "  'indie-pop',\n",
    "  'k-pop',\n",
    "  'party',\n",
    "  'pop',\n",
    "  'reggae',\n",
    "  'rockabilly',\n",
    "  'romance',\n",
    "  'sertanejo',\n",
    "  'show-tunes',\n",
    "  'summer',\n",
    "  'world-music'\n",
    "]\n",
    "\n",
    "wake_up_mood = ['alt-rock',\n",
    "  'death-metal',\n",
    "  'deep-house',\n",
    "  'electro',\n",
    "  'electronic',\n",
    "  'grindcore',\n",
    "  'hard-rock',\n",
    "  'heavy-metal',\n",
    "  'metal',\n",
    "  'metalcore',\n",
    "  'power-pop',\n",
    "  'progressive-house',\n",
    "  'punk-rock',\n",
    "  'samba',\n",
    "  'techno',\n",
    "  'work-out',\n",
    "]\n",
    "\n",
    "wake_up_selection = random.choices(wake_up_mood, k=5)\n",
    "open_road_selection = random.choices(open_road_mood, k=5)\n",
    "city_selection = random.choices(city_mood, k=5)\n",
    "\n",
    "playlist_genre_selection = [city_selection, open_road_selection, wake_up_selection]\n",
    "playlist_titles = [\"City Mood\", \"Open Road Mood\", \"Wake Up! Mood\"]\n",
    "\n"
   ]
  },
  {
   "cell_type": "code",
   "execution_count": 64,
   "metadata": {},
   "outputs": [
    {
     "name": "stdout",
     "output_type": "stream",
     "text": [
      "[5400000, 14400000, 1200000]\n"
     ]
    }
   ],
   "source": [
    "#gets the predicted time for each segment of the trip to limit the time of the corresponding playlist\n",
    "\n",
    "max_duration = [\"1:30\", \"4:00\", \"0:20\"]\n",
    "\n",
    "max_duration_ms = []\n",
    "\n",
    "for i in max_duration:\n",
    "\tts = datetime.strptime(i, '%H:%M')\n",
    "\tmax_duration_ms.append(ts.hour * 3600000 + ts.minute * 60000)\n",
    "\n",
    "print(max_duration_ms)"
   ]
  },
  {
   "cell_type": "code",
   "execution_count": 70,
   "metadata": {},
   "outputs": [],
   "source": [
    "\n",
    "for i in range(len(playlist_genre_selection)):\n",
    "\tpl_title = playlist_titles[i]\n",
    "\tmd = max_duration_ms[i]\n",
    "\ttotal_duration = 0\n",
    "\trecs = sp.recommendations(seed_genres=playlist_genre_selection[i], country='PT', limit=100)\n",
    "\ttarget_playlist = sp.user_playlist_create(username, name=pl_title)\n",
    "\trec_id_list = []\n",
    "\tj = 0\n",
    "\twhile total_duration < md:\n",
    "\t\trec_id_list.append(recs[\"tracks\"][j][\"id\"])\n",
    "\t\ttotal_duration += recs[\"tracks\"][j][\"duration_ms\"]\n",
    "\t\tj += 1\n",
    "\tsp.playlist_add_items(target_playlist[\"id\"], rec_id_list)\n",
    "\n"
   ]
  },
  {
   "cell_type": "code",
   "execution_count": 9,
   "metadata": {},
   "outputs": [],
   "source": [
    "#TODO: Create the playlist on the basis of moods and provide a mechanism to pick a mood.\n",
    "# After the mood is chosen, five (Spotify API limit) random genres from that mood are picked and the playlist is created\n",
    "#TODO: Maybe alternative to choose genres"
   ]
  }
 ],
 "metadata": {
  "kernelspec": {
   "display_name": "Python 3.8.13 ('Ironhack')",
   "language": "python",
   "name": "python3"
  },
  "language_info": {
   "codemirror_mode": {
    "name": "ipython",
    "version": 3
   },
   "file_extension": ".py",
   "mimetype": "text/x-python",
   "name": "python",
   "nbconvert_exporter": "python",
   "pygments_lexer": "ipython3",
   "version": "3.8.13"
  },
  "orig_nbformat": 4,
  "vscode": {
   "interpreter": {
    "hash": "ce8daeadbecdf1327004565080c2bef99f3da9e4e2409f5aeeaa17d54b366751"
   }
  }
 },
 "nbformat": 4,
 "nbformat_minor": 2
}
