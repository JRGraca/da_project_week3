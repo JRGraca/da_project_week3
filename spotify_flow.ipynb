{
 "cells": [
  {
   "cell_type": "code",
   "execution_count": 36,
   "metadata": {},
   "outputs": [
    {
     "data": {
      "text/plain": [
       "\"This workflow produces a Spotify playlist in the specified user's account based on recommendations\\nof three randomly selected genres\""
      ]
     },
     "execution_count": 36,
     "metadata": {},
     "output_type": "execute_result"
    }
   ],
   "source": [
    "\"\"\"This workflow produces a Spotify playlist in the specified user's account based on recommendations\n",
    "of three randomly selected genres\"\"\""
   ]
  },
  {
   "cell_type": "code",
   "execution_count": 37,
   "metadata": {},
   "outputs": [],
   "source": [
    "import spotipy\n",
    "import pandas as pd\n",
    "from spotipy.oauth2 import SpotifyOAuth\n",
    "from spotipy.oauth2 import SpotifyClientCredentials\n",
    "import random\n",
    "\n",
    "secrets_dict = {}\n",
    "\n",
    "secret_file = open(\"spotify_creds.txt\")\n",
    "\n",
    "for line in secret_file:\n",
    "\tkey, val = line.split(\":\")\n",
    "\tsecrets_dict[key] = val[:-1]\n",
    "\n",
    "secret_file.close()\n",
    "\n",
    "sp = spotipy.Spotify(auth_manager=SpotifyOAuth(client_id=secrets_dict[\"Client ID\"],\n",
    "                                               client_secret=secrets_dict[\"Client Secret\"],\n",
    "                                               redirect_uri=\"https://localhost:8080/callback\",\n",
    "                                               scope=[\"user-library-read,playlist-modify-private,playlist-modify-public\"]))"
   ]
  },
  {
   "cell_type": "code",
   "execution_count": 38,
   "metadata": {},
   "outputs": [],
   "source": [
    "target_playlist = sp.user_playlist_create(username, name=playlist_name)"
   ]
  },
  {
   "cell_type": "code",
   "execution_count": 39,
   "metadata": {},
   "outputs": [],
   "source": [
    "username = \"bogpoet\"\n",
    "playlist_name = \"Whatever I want\""
   ]
  },
  {
   "cell_type": "code",
   "execution_count": 40,
   "metadata": {},
   "outputs": [],
   "source": [
    "genres = sp.recommendation_genre_seeds()"
   ]
  },
  {
   "cell_type": "code",
   "execution_count": 41,
   "metadata": {},
   "outputs": [
    {
     "data": {
      "text/plain": [
       "['cantopop', 'progressive-house', 'bossanova']"
      ]
     },
     "execution_count": 41,
     "metadata": {},
     "output_type": "execute_result"
    }
   ],
   "source": [
    "random.choices(genres[\"genres\"], k=3)"
   ]
  },
  {
   "cell_type": "code",
   "execution_count": 42,
   "metadata": {},
   "outputs": [],
   "source": [
    "recs = sp.recommendations(seed_genres=random.choices(genres[\"genres\"], k=3), country='PT', limit=30)"
   ]
  },
  {
   "cell_type": "code",
   "execution_count": 43,
   "metadata": {},
   "outputs": [
    {
     "data": {
      "text/plain": [
       "{'snapshot_id': 'Miw2NTc3M2YxZDg2MmRmMzRiNTk5YmUzZGU4OTFkMzg0MmU3OTk3NWVk'}"
      ]
     },
     "execution_count": 43,
     "metadata": {},
     "output_type": "execute_result"
    }
   ],
   "source": [
    "rec_id_list = []\n",
    "for i in range(len(recs[\"tracks\"])):\n",
    "\trec_id_list.append(recs[\"tracks\"][i][\"id\"])\n",
    "\n",
    "sp.playlist_add_items(target_playlist[\"id\"], rec_id_list)"
   ]
  }
 ],
 "metadata": {
  "kernelspec": {
   "display_name": "Python 3.8.13 ('Ironhack')",
   "language": "python",
   "name": "python3"
  },
  "language_info": {
   "codemirror_mode": {
    "name": "ipython",
    "version": 3
   },
   "file_extension": ".py",
   "mimetype": "text/x-python",
   "name": "python",
   "nbconvert_exporter": "python",
   "pygments_lexer": "ipython3",
   "version": "3.8.13"
  },
  "orig_nbformat": 4,
  "vscode": {
   "interpreter": {
    "hash": "ce8daeadbecdf1327004565080c2bef99f3da9e4e2409f5aeeaa17d54b366751"
   }
  }
 },
 "nbformat": 4,
 "nbformat_minor": 2
}
