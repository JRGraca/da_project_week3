{
 "cells": [
  {
   "cell_type": "code",
   "execution_count": 1,
   "metadata": {},
   "outputs": [
    {
     "data": {
      "text/plain": [
       "\"This workflow produces a Spotify playlist in the specified user's account based on recommendations\\nof three randomly selected genres\""
      ]
     },
     "execution_count": 1,
     "metadata": {},
     "output_type": "execute_result"
    }
   ],
   "source": [
    "\"\"\"This workflow produces a Spotify playlist in the specified user's account based on recommendations\n",
    "of three randomly selected genres\"\"\""
   ]
  },
  {
   "cell_type": "code",
   "execution_count": 2,
   "metadata": {},
   "outputs": [],
   "source": [
    "import spotipy\n",
    "import pandas as pd\n",
    "from spotipy.oauth2 import SpotifyOAuth\n",
    "from spotipy.oauth2 import SpotifyClientCredentials\n",
    "import random\n",
    "\n",
    "# Opens a file with the format \"Client ID:<CLIENT ID>\\nClient Secret:<CLIENT SECRET>\\n\"\n",
    "# and accesses Spotify with those credentials (that last line break MUST be there or IT WON'T WORK)\n",
    "\n",
    "secret_file_name = \"spotify_creds.txt\"\n",
    "\n",
    "secrets_dict = {}\n",
    "\n",
    "secret_file = open(\"spotify_creds.txt\")\n",
    "\n",
    "for line in secret_file:\n",
    "\tkey, val = line.split(\":\")\n",
    "\tsecrets_dict[key] = val[:-1]\n",
    "\n",
    "secret_file.close()\n",
    "\n",
    "sp = spotipy.Spotify(auth_manager=SpotifyOAuth(client_id=secrets_dict[\"Client ID\"],\n",
    "                                               client_secret=secrets_dict[\"Client Secret\"],\n",
    "                                               redirect_uri=\"https://localhost:8080/callback\",\n",
    "                                               scope=[\"user-library-read,playlist-modify-private,playlist-modify-public\"]))"
   ]
  },
  {
   "cell_type": "code",
   "execution_count": 3,
   "metadata": {},
   "outputs": [],
   "source": [
    "username = \"bogpoet\"\n",
    "playlist_name = \"Whatever I want\""
   ]
  },
  {
   "cell_type": "code",
   "execution_count": 4,
   "metadata": {},
   "outputs": [],
   "source": [
    "#creates a target playlist in an authorized account with the name specified (it will be empty)\n",
    "\n",
    "target_playlist = sp.user_playlist_create(username, name=playlist_name)"
   ]
  },
  {
   "cell_type": "code",
   "execution_count": 5,
   "metadata": {},
   "outputs": [],
   "source": [
    "# gets the entire list of genres from Spotify\n",
    "genres = sp.recommendation_genre_seeds()"
   ]
  },
  {
   "cell_type": "code",
   "execution_count": 10,
   "metadata": {},
   "outputs": [
    {
     "data": {
      "text/plain": [
       "['detroit-techno',\n",
       " 'romance',\n",
       " 'metal-misc',\n",
       " 'reggaeton',\n",
       " 'post-dubstep',\n",
       " 'grindcore']"
      ]
     },
     "execution_count": 10,
     "metadata": {},
     "output_type": "execute_result"
    }
   ],
   "source": [
    "# picks three genres at random\n",
    "random.choices(genres[\"genres\"], k=5)"
   ]
  },
  {
   "cell_type": "code",
   "execution_count": 13,
   "metadata": {},
   "outputs": [],
   "source": [
    "# Creates a list of recommendations based on the genres\n",
    "\n",
    "recs = sp.recommendations(seed_genres=random.choices(genres[\"genres\"], k=5), country='PT', limit=30)"
   ]
  },
  {
   "cell_type": "code",
   "execution_count": 8,
   "metadata": {},
   "outputs": [
    {
     "data": {
      "text/plain": [
       "{'snapshot_id': 'Miw2NThmNTE4ZjIxNDY5ZmZlNTI5MmYxYWFmOWJlMTg2MzAwYjVjODBk'}"
      ]
     },
     "execution_count": 8,
     "metadata": {},
     "output_type": "execute_result"
    }
   ],
   "source": [
    "# Insert the recommended songs in the target playlist\n",
    "\n",
    "rec_id_list = []\n",
    "for i in range(len(recs[\"tracks\"])):\n",
    "\trec_id_list.append(recs[\"tracks\"][i][\"id\"])\n",
    "\n",
    "sp.playlist_add_items(target_playlist[\"id\"], rec_id_list)"
   ]
  },
  {
   "cell_type": "code",
   "execution_count": 9,
   "metadata": {},
   "outputs": [
    {
     "data": {
      "text/plain": [
       "{'genres': ['acoustic',\n",
       "  'afrobeat',\n",
       "  'alt-rock',\n",
       "  'alternative',\n",
       "  'ambient',\n",
       "  'anime',\n",
       "  'black-metal',\n",
       "  'bluegrass',\n",
       "  'blues',\n",
       "  'bossanova',\n",
       "  'brazil',\n",
       "  'breakbeat',\n",
       "  'british',\n",
       "  'cantopop',\n",
       "  'chicago-house',\n",
       "  'children',\n",
       "  'chill',\n",
       "  'classical',\n",
       "  'club',\n",
       "  'comedy',\n",
       "  'country',\n",
       "  'dance',\n",
       "  'dancehall',\n",
       "  'death-metal',\n",
       "  'deep-house',\n",
       "  'detroit-techno',\n",
       "  'disco',\n",
       "  'disney',\n",
       "  'drum-and-bass',\n",
       "  'dub',\n",
       "  'dubstep',\n",
       "  'edm',\n",
       "  'electro',\n",
       "  'electronic',\n",
       "  'emo',\n",
       "  'folk',\n",
       "  'forro',\n",
       "  'french',\n",
       "  'funk',\n",
       "  'garage',\n",
       "  'german',\n",
       "  'gospel',\n",
       "  'goth',\n",
       "  'grindcore',\n",
       "  'groove',\n",
       "  'grunge',\n",
       "  'guitar',\n",
       "  'happy',\n",
       "  'hard-rock',\n",
       "  'hardcore',\n",
       "  'hardstyle',\n",
       "  'heavy-metal',\n",
       "  'hip-hop',\n",
       "  'holidays',\n",
       "  'honky-tonk',\n",
       "  'house',\n",
       "  'idm',\n",
       "  'indian',\n",
       "  'indie',\n",
       "  'indie-pop',\n",
       "  'industrial',\n",
       "  'iranian',\n",
       "  'j-dance',\n",
       "  'j-idol',\n",
       "  'j-pop',\n",
       "  'j-rock',\n",
       "  'jazz',\n",
       "  'k-pop',\n",
       "  'kids',\n",
       "  'latin',\n",
       "  'latino',\n",
       "  'malay',\n",
       "  'mandopop',\n",
       "  'metal',\n",
       "  'metal-misc',\n",
       "  'metalcore',\n",
       "  'minimal-techno',\n",
       "  'movies',\n",
       "  'mpb',\n",
       "  'new-age',\n",
       "  'new-release',\n",
       "  'opera',\n",
       "  'pagode',\n",
       "  'party',\n",
       "  'philippines-opm',\n",
       "  'piano',\n",
       "  'pop',\n",
       "  'pop-film',\n",
       "  'post-dubstep',\n",
       "  'power-pop',\n",
       "  'progressive-house',\n",
       "  'psych-rock',\n",
       "  'punk',\n",
       "  'punk-rock',\n",
       "  'r-n-b',\n",
       "  'rainy-day',\n",
       "  'reggae',\n",
       "  'reggaeton',\n",
       "  'road-trip',\n",
       "  'rock',\n",
       "  'rock-n-roll',\n",
       "  'rockabilly',\n",
       "  'romance',\n",
       "  'sad',\n",
       "  'salsa',\n",
       "  'samba',\n",
       "  'sertanejo',\n",
       "  'show-tunes',\n",
       "  'singer-songwriter',\n",
       "  'ska',\n",
       "  'sleep',\n",
       "  'songwriter',\n",
       "  'soul',\n",
       "  'soundtracks',\n",
       "  'spanish',\n",
       "  'study',\n",
       "  'summer',\n",
       "  'swedish',\n",
       "  'synth-pop',\n",
       "  'tango',\n",
       "  'techno',\n",
       "  'trance',\n",
       "  'trip-hop',\n",
       "  'turkish',\n",
       "  'work-out',\n",
       "  'world-music']}"
      ]
     },
     "execution_count": 9,
     "metadata": {},
     "output_type": "execute_result"
    }
   ],
   "source": [
    "#TODO: Create the playlist on the basis of moods and provide a mechanism to pick a mood.\n",
    "# After the mood is chosen, five (Spotify API limit) random genres from that mood are picked and the playlist is created\n",
    "# TODO: pick music until a maximum time is chosen (based on route duration and type of road/speed limit)"
   ]
  }
 ],
 "metadata": {
  "kernelspec": {
   "display_name": "Python 3.8.13 ('Ironhack')",
   "language": "python",
   "name": "python3"
  },
  "language_info": {
   "codemirror_mode": {
    "name": "ipython",
    "version": 3
   },
   "file_extension": ".py",
   "mimetype": "text/x-python",
   "name": "python",
   "nbconvert_exporter": "python",
   "pygments_lexer": "ipython3",
   "version": "3.8.13"
  },
  "orig_nbformat": 4,
  "vscode": {
   "interpreter": {
    "hash": "ce8daeadbecdf1327004565080c2bef99f3da9e4e2409f5aeeaa17d54b366751"
   }
  }
 },
 "nbformat": 4,
 "nbformat_minor": 2
}
