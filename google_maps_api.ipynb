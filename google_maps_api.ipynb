{
 "cells": [
  {
   "cell_type": "code",
   "execution_count": 35,
   "metadata": {},
   "outputs": [],
   "source": [
    "import googlemaps\n",
    "from datetime import datetime\n",
    "import pandas as pd\n",
    "\n",
    "\n",
    "sec_file = open(\"gm_creds.txt\")\n",
    "key = sec_file.read()\n",
    "sec_file.close()"
   ]
  },
  {
   "cell_type": "code",
   "execution_count": 36,
   "metadata": {},
   "outputs": [],
   "source": [
    "gm = googlemaps.Client(key)"
   ]
  },
  {
   "cell_type": "code",
   "execution_count": 37,
   "metadata": {},
   "outputs": [],
   "source": [
    "directions = gm.directions(\"Ironhack Lisboa\", \"Rua S Paulo, 7, Loule\", mode=\"driving\", departure_time=datetime(2022, 10, 20, 15, 55))"
   ]
  },
  {
   "cell_type": "code",
   "execution_count": 38,
   "metadata": {},
   "outputs": [
    {
     "name": "stdout",
     "output_type": "stream",
     "text": [
      "[{'bounds': {'northeast': {'lat': 38.7866393, 'lng': -8.0249659}, 'southwest': {'lat': 37.1195121, 'lng': -9.128908899999999}}, 'copyrights': 'Map data ©2022 Inst. Geogr. Nacional', 'legs': [{'distance': {'text': '269 km', 'value': 268575}, 'duration': {'text': '2 hours 33 mins', 'value': 9188}, 'duration_in_traffic': {'text': '2 hours 34 mins', 'value': 9226}, 'end_address': 'R. de São Paulo 7, 8100-687 Loulé, Portugal', 'end_location': {'lat': 37.138578, 'lng': -8.0249659}, 'start_address': 'Heden Santa Apolonia Doca Jardim do Tabaco Terminal de Cruzeiros de Lisboa Edifício NE, 1º Piso, 1100-651 Lisboa, Portugal', 'start_location': {'lat': 38.711597, 'lng': -9.1239379}, 'steps': [{'distance': {'text': '72 m', 'value': 72}, 'duration': {'text': '1 min', 'value': 17}, 'end_location': {'lat': 38.7111841, 'lng': -9.1245617}, 'html_instructions': 'Head <b>southwest</b> toward <b>Av. Infante Dom Henrique</b>', 'polyline': {'points': 'ozgkFr_uv@NJl@|@LVFX'}, 'start_location': {'lat': 38.711597, 'lng': -9.1239379}, 'travel_mode': 'DRIVING'}, {'distance': {'text': '0.5 km', 'value': 522}, 'duration': {'text': '3 mins', 'value': 164}, 'end_location': {'lat': 38.7093997, 'lng': -9.1291409}, 'html_instructions': 'Turn <b>right</b>', 'maneuver': 'turn-right', 'polyline': {'points': '{wgkFncuv@qA~AdCrEPX|@fBt@lAdAhBZj@h@~@bAlBBL?DCHCFEFIHIJGF'}, 'start_location': {'lat': 38.7111841, 'lng': -9.1245617}, 'travel_mode': 'DRIVING'}, {'distance': {'text': '5.7 km', 'value': 5661}, 'duration': {'text': '11 mins', 'value': 648}, 'end_location': {'lat': 38.74976789999999, 'lng': -9.104919899999999}, 'html_instructions': 'Turn <b>right</b> onto <b>Av. Infante Dom Henrique</b>', 'maneuver': 'turn-right', 'polyline': {'points': 'wlgkFb`vv@Yc@e@w@MSAAGKMQKQACA?KGS[OW_AwACSACAAAE_@s@KUi@wAM[sA{DU]EKEIYu@MUGQEGGMIMYi@KSD_@O_@KSEGIMGMOOQUg@k@i@k@g@k@eBoByAcBoAsAy@aAqB{BkD}DEE}@aAu@w@g@m@UUc@c@c@e@sAuACEA?ACIIAAEE?ACAIKqAsAOOCCKIOQOOUUs@k@IIIGIGAAGGg@a@e@c@g@_@m@c@kA_AQOKI_Ay@_@]}@u@oD{CmCyBmEuDeA}@s@k@MKmAaAqB_B{@s@cA_AQQMMe@m@i@w@e@s@i@y@k@y@k@y@e@o@g@o@]a@OOg@k@c@a@OMYWOMOOUQi@a@k@c@g@[u@g@e@[{@k@g@]i@]i@[k@[g@Wm@Y[OUIe@Sk@Si@Qg@Oo@Ok@M{AWgAScAQo@Ko@KiASw@OuA[gA[A?mDcA_@MKEMCEC]KYKQIWM[M[MWMo@]k@Y{@e@{@c@_Ag@e@UqBkAy@a@g@YYSUQMMQYWa@GKMQIIOMAAIEKGWKSIo@SgAWICUCk@KIAG?E?G?C@C@A@EDABSdAAHY|As@rDETGRIf@ERQ~@_@jBEXADADABAFADADADADABCFADCDCDABADCDGLSXSXCDORc@h@URWTk@^QHc@Po@Rm@Pg@TaATGBa@Fm@LQBw@H_@DW@e@@e@?_@?a@Ao@EUEWCSCQCC?]A'}, 'start_location': {'lat': 38.7093997, 'lng': -9.1291409}, 'travel_mode': 'DRIVING'}, {'distance': {'text': '0.4 km', 'value': 438}, 'duration': {'text': '1 min', 'value': 48}, 'end_location': {'lat': 38.7534267, 'lng': -9.103183999999999}, 'html_instructions': 'At the roundabout, take the <b>2nd</b> exit and stay on <b>Av. Infante Dom Henrique</b>', 'maneuver': 'roundabout-right', 'polyline': {'points': 'aiokFvhqv@AA?CAAAACAA?AAA?CACACACAC?CAC?C?A?A?A@A?A?A@A?A@QOEEEEGEGCIEIGIGe@Q_AWc@O}Ag@GCMIGEkAe@q@UIC{By@GCi@QSG'}, 'start_location': {'lat': 38.74976789999999, 'lng': -9.104919899999999}, 'travel_mode': 'DRIVING'}, {'distance': {'text': '0.8 km', 'value': 800}, 'duration': {'text': '1 min', 'value': 53}, 'end_location': {'lat': 38.7605916, 'lng': -9.1034472}, 'html_instructions': 'Keep <b>left</b> to stay on <b>Av. Infante Dom Henrique</b>', 'maneuver': 'keep-left', 'polyline': {'points': '}_pkFz}pv@C?ICUG{@Oc@G[CWAUA]?U?o@@Y@[@UB[B[@U@Q?aBHiCFE?[?E@g@@_ABiCLkG\\\\{A@kAF'}, 'start_location': {'lat': 38.7534267, 'lng': -9.103183999999999}, 'travel_mode': 'DRIVING'}, {'distance': {'text': '2.0 km', 'value': 2028}, 'duration': {'text': '2 mins', 'value': 136}, 'end_location': {'lat': 38.778665, 'lng': -9.105282599999999}, 'html_instructions': 'Slight <b>left</b> to stay on <b>Av. Infante Dom Henrique</b> (signs for <b>A1 Norte</b>/<wbr/><b>A12 Sul</b>/<wbr/><b>P.te V. Gama</b>/<wbr/><b>Pq.das Nações</b>)', 'maneuver': 'turn-slight-left', 'polyline': {'points': 'ulqkFp_qv@e@X}CHu@Bi@@I@aAHWBY@kAFiAFiBLg@DU?E@c@@M?aCHw@Ba@BgAFA?c@BsCLgBP{@FYB_@B]@u@Dw@DiEPM@aCJQ@a@@oBDkBH]B_ELUBUB[Hy@XGB]LA@SJUJiAd@WHUDC?}@D[?iBGwEIQ?EA_@?yCEy@CkAGq@E'}, 'start_location': {'lat': 38.7605916, 'lng': -9.1034472}, 'travel_mode': 'DRIVING'}, {'distance': {'text': '0.3 km', 'value': 254}, 'duration': {'text': '1 min', 'value': 12}, 'end_location': {'lat': 38.7809357, 'lng': -9.1051825}, 'html_instructions': 'Continue onto <b>IC2</b>', 'polyline': {'points': 's}tkF~jqv@gBOc@CwAKsAEaABmAL'}, 'start_location': {'lat': 38.778665, 'lng': -9.105282599999999}, 'travel_mode': 'DRIVING'}, {'distance': {'text': '0.4 km', 'value': 365}, 'duration': {'text': '1 min', 'value': 21}, 'end_location': {'lat': 38.7837532, 'lng': -9.106260899999999}, 'html_instructions': 'Take the <b>A1 Norte</b> ramp to <b>A8 Oeste</b>/<wbr/><b>A12 Sul</b>/<wbr/><b>P.te V. Gama</b>/<wbr/><b>IC17</b>/<wbr/><b>CRIL</b>', 'maneuver': 'ramp-right', 'polyline': {'points': '{kukFjjqv@GEIAM?QB[B]@YAYC_@GMCo@OKAICKASCK?K?M@OBIBMDULMLKLQVGLk@fACDCHILGLOXOT'}, 'start_location': {'lat': 38.7809357, 'lng': -9.1051825}, 'travel_mode': 'DRIVING'}, {'distance': {'text': '35.2 km', 'value': 35168}, 'duration': {'text': '21 mins', 'value': 1242}, 'end_location': {'lat': 38.5893849, 'lng': -8.8643579}, 'html_instructions': 'Keep <b>right</b> at the fork, follow signs for <b>A12 Sul</b>/<wbr/><b>P.te Vasco da Gama</b> and merge onto <b>PTE Vasco da Gama</b>/<wbr/><b>A12</b><div style=\"font-size:0.9em\">Continue to follow A12</div><div style=\"font-size:0.9em\">Toll road</div>', 'maneuver': 'fork-right', 'polyline': {'points': 'm}ukFbqqv@MDCBGHKH[V]RC@c@TQD?@SDWBY@A?SCEAIAOGQIQKKIKIKMIKMUIQO[EWI_@AQG_@A]Ca@EqAAOIoBIqBGgAGuAEaAE{@K}BGyAGuAEq@Ai@KwBKiCIaCEmAMuA?a@?SAS?}A@cABgBBy@By@JyB@W@IBm@Di@LcC?IBa@@K`@mHLeC@MDs@@YDy@PiDFmA\\\\_HDo@Bk@?ADs@HsADu@NaDHaB@EBe@?GDm@LgCLiCDm@Du@JsBJ{APqC@ADs@BYLoA@GLwALkATiBNiAD_@N_ADWFa@@IRsAHe@BOBK`@yBP}@Ns@@G^eB\\\\qA\\\\wAT}@`@yAZiABENi@La@?A@CDMFSBE?ADKHYXw@b@sANc@Ti@`@eAh@uAHOb@gADKDKLYBE^{@HQf@cAp@qAb@{@~@iBh@}@DG\\\\q@|AcCnCeEfCsDbBcCxIqMtLkQlEsG|O{UhCyDdj@cy@rJsNlKwO~DaGjAcBV_@V_@~A_C~BmDX_@n@aAh@u@nDoF^g@V_@Xa@nDkFhBmCjBqCx@kAVa@V_@f@s@fCuDVa@JOLOj@y@\\\\i@Va@V_@jAeBjAaBn@aAXa@Va@hA_BjC{DtAqBVa@~@uA`EcGvMuRtDsFtCgEpAoBRYDEVa@xDwFLQx@mAbAyAt@gAtAsBd@u@^i@t@iAtAqBtAyBJQv@qANUp@iAnA{BFMVc@v@yA|BkE|A}CvAyCZu@LWnCmGpAcDjB{EjCqHp@sBb@oAX}@hAgDjAkD?APe@x@cCnBaG|@mCtAeE^kAFSHUh@gBzAcFv@aD\\\\yAPw@P}@P}@VwAXcBRyAL{@Fg@PwA@C?CFi@?AFq@LqALyAFw@FiAHeBJkB?E@EBs@@c@^{LHeCFiBJcCBw@HwARqCX}CZoCHq@@IFi@Lw@L_AJe@RqAN{@P}@?C\\\\aB`@oBpA_Gd@{Bb@mBJg@j@iCfBeIn@qCT{@@I@GFQNq@b@gB\\\\oAlAkEnAoEdBcGLk@Ja@n@{BZeANi@F[\\\\uANq@~AwJFa@FY@MBKBOD[BKHq@^wB\\\\oBd@sC^}BBOb@iCl@cE`@oDReCNoCBcADcABu@BaABeA@u@?I?kA?oAA}@CgAEkCC_AC_AI_CCeA?WCa@C_B?ICeACqB?O?i@?c@BgB@{@BgAB_ADcAB_AB]Ds@FwA@YBWBo@Bm@B]@[Bo@@]?SBw@@Y?c@@c@?}@?a@?uAAQ?i@A}@AcACi@Ee@Ci@Gy@Ew@Iw@MqAGg@Iq@Km@Ik@O}@Ko@Ki@S}@Ke@Ok@Qs@]mAUy@_@oAe@{Ak@qBOi@Oi@]sAU}@I]GYIc@GYGc@Ms@K_AKs@Go@IeAGu@GmACgAA]Au@?w@?cA@aAB{@@]B[Bq@Ds@Hy@HaAL_AL}@Ly@Lu@R}@T_ANm@Ru@Ro@L[^cATk@L[Rc@BE\\\\u@l@gAb@u@`@k@t@gAhAyAn@w@nA{AnBaCzAiBfAsAVYV[PSzAiBrBeCn@s@z@aAf@i@t@u@VURQTSb@]t@m@BAn@e@h@[n@a@j@[n@]`Ae@z@]ZKXKRI^Mr@Sp@SjAYx@S`@IZGj@MB?DAb@KpAYb@Kn@OZI~@Q`Cg@ZIXGfB_@nCk@`ASb@I`@Kf@KZIr@QfAYlA]jA_@`A]h@S^Ml@Uz@]dAa@n@Uj@UlAe@tAg@l@Ub@OjAa@dAa@vBw@`Bo@TIVIhAc@dC_ArBw@bBq@f@QfAa@`A_@bA_@|Am@fAa@t@Yp@U~Ao@~@]ZK~Ak@LE\\\\MDA`@OlAe@|Ak@tAi@rAg@lAc@v@[bA_@lBs@XKhAc@TKVI@ARGbJkDlEaBHEXITKl@SXKRGd@Q^K~@YjA]jAYv@Qn@Mf@KjASlAQLAd@GRCfAKf@EHARAVCZCb@Ct@CZAFAD?F?rACx@AfAAnA@^@pABz@BL@T@Z@n@BfBFnDLfENtCJlDNjHVtCJzCLbADlBFz@DdBDD?^@v@B^?dBJtCJX@fA@f@Bd@?f@ClAMpAM|@K^EXIv@UjA[~Ao@fCy@z@UXIvAc@pAg@LEl@WjAg@r@[r@[h@Y~A{@fAo@LGtAy@nAy@fC_BhBkAnAw@r@c@RKZSj@_@`@W^U@ArA}@r@c@BAHELKLIt@e@vCkBbC}AJGrBsAr@c@n@c@d@]p@e@r@g@~@u@|@u@|@y@HIr@o@`@a@TWz@}@v@{@d@k@l@s@Za@t@aAr@cAt@eADGj@_A`@m@p@kAr@oAZk@z@gBHS`AsBpAwCdAeCrAaDTk@Re@LWFM|@wBdAcCv@kBv@kBh@oAj@oAZs@N[\\\\q@LYNYNYJSFMBEVa@p@iAVc@NWFIPURYr@cAv@aAt@_Af@i@NOTU`@a@Z[PQJIfAaA|@s@h@a@pA}@b@Y|@i@l@]ZO~@e@h@Wd@SXMf@Sh@Sj@Qh@Ql@Qt@Ud@O~@Sf@Kj@KVEn@It@Kh@GTA|@Ir@Ep@Ep@Cn@?hA?bA?r@@^@n@BV@\\\\BhAHv@HhALn@H|ARfDb@v@J~@LPDN@jANfALdBPhALp@Dt@FN@RBtBL`@B^B\\\\@V@T@P@|@D`@@^@j@@Z?f@@`@@b@?p@@p@@bA?r@?jAAr@An@AvACtAEdAElAEnCOjEShCOlFYdCKvAIjBKlAGrFYr@Cj@EZAnAGhDQ|F[xFYlH_@zFYdESvCOtCQRA|@EbAEtAINA|@EF?lBKpCOlAGjAGbBIfEUtAIfAGh@EZC^Eh@A^E|@Ot@MXGREfAYd@Of@OhAe@p@['}, 'start_location': {'lat': 38.7837532, 'lng': -9.106260899999999}, 'travel_mode': 'DRIVING'}, {'distance': {'text': '2.3 km', 'value': 2315}, 'duration': {'text': '1 min', 'value': 72}, 'end_location': {'lat': 38.5862229, 'lng': -8.8413864}, 'html_instructions': 'Keep <b>left</b> at the fork to continue on <b>IP1</b>, follow signs for <b>E90</b>/<wbr/><b>E1</b>/<wbr/><b>A2</b>/<wbr/><b>Algarve</b>/<wbr/><b>Évora</b><div style=\"font-size:0.9em\">Toll road</div>', 'maneuver': 'fork-left', 'polyline': {'points': 's~ojFfibu@RKRK^QVOv@e@fAu@f@_@v@q@hBeBb@i@d@i@NSh@s@V]Va@b@s@j@eAn@mAf@gAL]Pc@Vq@L_@Xw@Ru@Tw@T}@Pw@RaAZwA\\\\kB\\\\eBH[P{@N{@VyAN}@J}@LgAH_AHaBD_ABe@@k@?c@@q@?m@?u@Ac@CcAC}@Ca@E_AI}@IaAEa@E[S{AO{@YyAQ{@CI[sAQw@]uAEWU}@gAoEy@kD]{As@qCWmAOm@WqA[}AEO?AU]'}, 'start_location': {'lat': 38.5893849, 'lng': -8.8643579}, 'travel_mode': 'DRIVING'}, {'distance': {'text': '17.1 km', 'value': 17065}, 'duration': {'text': '9 mins', 'value': 524}, 'end_location': {'lat': 38.6024569, 'lng': -8.6533845}, 'html_instructions': 'Merge onto <b>A2</b>/<wbr/><b>IP1</b><div style=\"font-size:0.9em\">Toll road</div>', 'maneuver': 'merge', 'polyline': {'points': '{jojFty}t@Kk@Ga@Ga@QiAOaA[cD]{DYsDKmBEq@Ae@AcAAOAuAAcAA_A?_C@wAByAD}A@e@@QBs@FoAFuAB[F{@NeBLwANwATgBPqAVaBNaAP}@\\\\qBLs@F[PaAFa@BKLu@L{@ZiBT{ABOD[Fa@NiABQJ}@NuAPcBLsAHmAF{@LwBFcADcADaAF_CDcC@}@?O@y@@{@A{B?iA?_AAaAAaAA_A?}@AcA?}@A_A?cA?}@?aA@w@?I?{@?U@m@?A@mABaA@}@@_AB}@BcABs@FaCP_EP{D^{FF_AFm@HkAf@uF^wDX_CVuBXcCTwBR}BJmBJcCD}B@{B?cAAcAGeCEaAOaCQ{BMeAKy@_@gCESG_@CQI_@G[I[G]GYMi@]{AW_AaAqDU{@W{@U{@Uy@Uu@WaAU{@Qw@U}@Qu@Os@Q_A]iBSsAOcAKw@MiAKcAGq@AKImAGw@Ck@GcAE_ACeACk@Ai@?c@Ac@?c@Ao@?s@?i@@u@?w@?G@m@?m@@}@@{@@u@@{@@eA@_A@cA?aA?y@?iAAu@A}@?OCu@Ag@C_AKkBIuAGy@C[AQCQEe@K}@WyBKu@Mu@EYY_BQy@]}AU}@U{@[iAOg@Wy@Sm@m@sBY{@o@eBUs@y@eCk@iBi@eB]iAe@gBe@kBYcACGIa@U}@[qAOo@UgAa@kB]gBUmA[eB_@yB_@{BQoAg@cDQgAQiAYeB[sBUqA]gBKg@SgAg@{Ba@kBe@kBEMU_Ay@wCc@{As@cCs@qBI[_AgC]}@q@eB_@_A]y@Wm@y@iBw@cBGKcAuBiBkDs@qA_AaByAmCuByDeAuBk@iA]{@Ue@Wq@[y@Wu@eA}Cc@cBS{@GWGUY}ASiAYoBM}@K_AMoAOkBGaAEy@Eu@Cw@EyAAcAAy@?{BDiC@Y@m@?CDu@Dw@Bk@JyAJsAFm@TmBL_A\\\\yBb@_CNo@Jc@H]J]xB{HxAcFxAeFf@qBFS^yAj@_Cb@qB@Eb@yB\\\\eBt@eEZqB\\\\aCR_BLcAHm@Fg@N{ALoAX_DB[B]VkDL{BHmBDkAHuBHmCDqDB{B@uB?[?m@?EAcC?CCsDCwBAQCyAASAYGsBWiGQkCImAMoAOqBSwBMmAW{BWqBYuBOaAUuAUyA[aBUqAc@}Ba@sBe@yBKm@Mi@Kk@Kg@u@uD]iBa@yB_@sB_@_Ce@eDSwAKu@Kk@AKUkB[_DYgDU_DKcBEa@E{@ImBOyDK_DKeDM}EIwCGuBC}@MaFI}BG}BMkE@YCk@Ai@I}BUwH?o@Aa@AW?_@ASAUGoCUqI_@qNAEAg@As@]gMQoGAY?SWgICsAA_@Aa@MkEU}HIaCI}CGcCMkE'}, 'start_location': {'lat': 38.5862229, 'lng': -8.8413864}, 'travel_mode': 'DRIVING'}, {'distance': {'text': '184 km', 'value': 183602}, 'duration': {'text': '1 hour 31 mins', 'value': 5449}, 'end_location': {'lat': 37.1555186, 'lng': -8.211736799999999}, 'html_instructions': 'Keep <b>left</b> at the fork to stay on <b>A2</b>, follow signs for <b>E01</b>/<wbr/><b>Algarve</b>/<wbr/><b>Alcácer</b><div style=\"font-size:0.9em\">Toll road</div>', 'maneuver': 'fork-left', 'polyline': {'points': 'kprjFrbys@QuHGeCUwIEwBCcBA[AyC@eDDwBHaCL_CLwADa@ToBBUBUPkAPgAR_Ab@uBFWPq@Rs@Lk@^mA\\\\aATm@JUXs@h@oARc@T_@Xq@fC{EdAgBpA{BRa@HOJSFMJO^s@^m@^s@Zm@Vc@HM^m@~@_BZi@bBsCZi@\\\\q@^q@Vc@\\\\m@lAcCh@aAh@aAd@y@PY^o@`@k@NU`@m@`@m@NWPWLS`@o@PWNW`@m@FIXa@@APWNULQ@CRWNUPUPU@ANQPURUPUPSPQJM^a@`@c@z@{@@?Z[FGf@c@f@c@TSROTQTQROTQROROTOTQROROTQTOHGHGTOTOTOTMTMRMXOPMTMVKTMTKTKVKVKd@QlAc@XIl@Q~@WPCj@M|@OvAWdAMjAMPCdAKxC[lCYfBU|ASlAOdCYRCTAfCWtBSzAMd@Ed@EvOsA`@CPCvCWpGk@bBQfVeCfGm@`BOxAMXCtFc@tCQ`AKlAKbAK`@Eb@EB?^EvD_@ZEhEa@vC[~AOhBQ|AO|AQ~BYn@KrAS~Ci@vCi@zD{@fBc@p@Q`@K`@KpBk@vAc@bBi@zAi@~Ai@|Am@rCiAxCsAjEsBZOtC_BnBgAxBsAlAu@^UVQ^Wz@k@ROv@i@bBmA`Au@t@m@dDkCTSFELMd@a@h@e@rBkB`A}@hAkAhCeCf@g@|GwGdDcD~@{@TU~A}AhAiANO@?LMd@e@xUiUhFcFx@u@z@w@pAkAf@e@fAaA`BwALM@ANMbDsCzBmB`DmCtD{CrC}BfBuAbCkBz@q@bBmAfCkBt@i@TO|@m@LKn@c@^UDEl@a@h@]x@k@bBgAHG@AJGTOLIVSj@_@hKeHrA}@`CaB\\\\Ub@[tA}@|B{AxAcAdBkA|DkCdP{KhAw@jBiA`DuBXSXUx@m@lA}@bAs@nA{@rA_AdBkA~@o@dAu@`C_Bz@k@j@a@h@]l@a@f@[XSd@[j@_@h@_@XSh@_@j@a@|@s@fBsAbBwAVU|@w@v@q@VUBE\\\\[l@i@bBeBhAoAh@i@bBmBLQn@w@dAqANSHKX_@X]rAcBn@y@`@i@x@iALQ~@sAb@o@^k@dA}A`@o@PWdDuFTa@n@eAlCoEBGP[Vg@Pa@Te@Ra@?AZo@r@}Al@sAtAiDh@uAFMrDwJdBoEbBkEpCcH~C_IRg@p@cBp@aBbAeCdCiGHSx@sBRe@Ri@d@iARe@Rg@Vo@x@qBzAyDBEjAqCN_@Vk@Te@f@gA`BkDz@cBhAyBrBsDdBuCjAkBbA{AjBmCnAgB|@mAdC_D\\\\c@v@_Av@{@d@e@z@y@xAsAbAaAfDaDd@c@lAgA@AZW\\\\Y^[v@q@DCVS\\\\Y^WxAiA|AgA@AlAy@JIx@i@jBkATOfBeAVMdCuAh@Yt@_@jB{@r@]xBaA|@_@pBu@xBy@d@O`@MLEjBm@NEjA]`Co@~Bk@nAYb@KJChDo@ZE~Ba@zCa@VExAOhD[b@ElCWpAKdE_@bEa@dEe@`D[nEg@~BSrHs@`AIVCz@IHAxFg@fAKxAOlBOxEa@rBQhD]nBSlBUfBS@?b@GrASx@K^Gv@MPC`@IdAUt@QdAUtAWh@KnBa@v@QTEjB_@b@Kj@Mb@I`@Kb@IHCn@ObBa@fBc@`AWhAY`Be@JClCu@PG~@[r@UnBm@^M`@O^Mj@SbA_@tBu@FC`A_@dBq@RIl@Wh@SnAi@fBw@tB}@rBaA`Ae@l@Y~EcCfAk@nAq@hCsAvH_Ef@Y^UlAs@tBkA|@m@tB{AjAy@xFwDxBaBtDyCpEmDn@g@xAqApAiAlE{DJILMRSZ]vCwCPOxGsG~@}@z@u@~CqCjGsFNMLKZY@?vAuArAoA`CyB`EyD~EuElOsNbHuGtAqAnAkAl@g@p@k@pAeAbGyEpBwAbCcBpBqAbAo@dAo@pAu@\\\\SdBaAhCqAfB{@p@Y|BaArAi@|Ao@vCeAVIrAc@r@U`@M`@M@?`Cq@nHeBp@Ot@Ob@IzCm@|Eu@HApD_@LCzAMb@Cb@EHAnDS|FS`BEr@AR?b@AfEA|B@lCFbEHhGZpFd@fAL~Df@tF~@lCj@fE~@B@zBj@tBj@FBbD|@bAXdAX~Bn@TFtHrBb@JTFJBtJfCpCt@pCt@vBj@p@PfA\\\\~Ad@~Ab@`Bf@~Ad@NDdAZHBhAZvBl@`Bd@lBj@H@xMtDdAXfAZ|Ab@zAf@l@RbA\\\\dA^zAj@bA`@bAb@l@Vl@VxAr@`Ad@xAr@vAr@vAr@vAt@jBbAtAx@|A`A`@VhBlAfDxBtA|@vCjBbBdAn@`@tC`B|BpA|Ax@tFjCjBx@`Br@hCbAzAj@zAh@bA\\\\xAf@|Ah@|Ad@fAZzA`@dAVzA^b@H`@JVF`B^fAXNB`@Hl@LnCd@TBb@Hf@Hl@HRD`@FPBPB~@JtARfALXBb@Dd@FhAJjAJ|ALlAJdAFlAF~ADbBDhGH|GH|FDlFDN?`LNb@@H?lEFb@?B?jCDdHH~FFzILjHHvFJ`HJV@pHN`EHtBBX@b@@tBDpLN`C@|BBt@@bHB^BnCFb@@xBHzAHnCPdF^lDRhF`@`CVxANdALD?dEd@l@Hb@DH@vEj@zARN@j@JpEp@vFz@rFbAfBZvCh@jCf@dEx@nAXv@PnGtAnBd@n@NnFvAfBd@jA\\\\xAb@pDfA|LrDt@T`IbCtH~BnCz@hA`@rCz@lCx@dElAXHHBzFfB|C`A`@LlA^@?bGfBnCt@hDz@pCx@~Bt@xAb@|DrA`Bd@fAZzBj@|A^~Bf@nCh@`BZvC^lAN`BPbBP~BRzCRhDN`DL`A@B?bBDtCBbCAj@AhBCD?tBG|BI`BIhBMvCUjD]pC]fEk@`Es@|JqBvAYlIcB`Ce@lDu@rBa@`@I~Cm@nAWLCt@Oh@KnGsApCk@fAU|Bc@rAYv@OtBc@BAB?bCg@HAf@KtR_EnAWr@Q\\\\GrLeCzEcAl@MlDs@fDs@|E}@d@IlEu@bBW|B[|AUdHy@zEe@nAMlGi@dE_@~AO|BWpC]lBW^G`@G`BUdBYzCe@bB[lASdB]vCk@~Bg@`Ba@lAYbBc@lA[hAYvCy@bFyAvBq@bBk@nGwB`Bm@bBo@`Bo@nCeAjAg@nIqDxBaArKkFpEaCfDkBj@]~A_AlBiAzA}@hCaBjAw@lBoAxAcAvCuBt@i@|C}Bj@e@xJcIxBkB`@_@\\\\Y\\\\YrAgApFyE|CwCx@{@HGRUb@a@`@a@`AeA`AcAtAyA~FuGjEiFnCgDVYl@w@tD}ElAaB`DmEjCyDx@mAnEmH~@_BXc@Xc@jCmEbBwChCuEfAqBrCoFb@{@~@mBpFwKbUkd@xFeLxEsJ~A_DlCoFhLoUzGaNrF}KnDkHbDwGpAoCz@iBtB{ErCwGvCqHjA}CfAyCZ}@~@kCf@wAf@{Ab@wAn@mBb@uA`@sAzAgFt@kCbC}IbAyD`BcGNi@bAsDlBeH`DwL`F{Q`AoD\\\\kAvAiFjA}DL_@b@yAL_@Pg@Pg@Ng@d@mAPg@HWXu@l@aBz@}BXq@Pg@Pa@f@oADKLYf@kA@A|@mBHQ^w@Tc@Tg@xAoCT_@bAiBZi@Zg@jAeB`@m@l@cArB_DXc@lAeBnBkC`@k@|AmBpBeCfBsBHIvA}Aj@k@lAoAbCaCt@o@b@a@ZY\\\\[dByAb@_@TQl@g@~AmAbAw@rAaAvCkB~@m@tA{@z@i@LGZQDC^SHERKn@_@fB_AtAs@n@[bAe@@?HEz@a@HC@?\\\\Q|@_@tAi@fCgAb@Q`@QLGTKHEZM|BcA`Ae@`Ac@|BgAdDaB|@e@zAw@lBcAXQLIRKRMJGlAq@NI\\\\S~@g@hAs@d@YPKLGNKJGr@c@fC_BTOb@Yf@[JGd@]JGPMh@]x@i@~AiAr@g@dAw@rA}@TOv@c@~@q@x@g@\\\\Wh@]BAPMJIVQDGRQTSf@_@FELKROTSRQf@a@BAPORMTO@AVWNMNQHI`@i@Ze@^c@\\\\[n@m@\\\\YNOh@e@Z[HGz@w@x@y@fDcDlAmAjAkAlAoAhAoAjAoAjAqAlAuAhAqAjAqAx@cA^a@|@iAhAuAvAiBx@eAhAyAbAsAdCiDn@_A`AuAdAyAhA_B`A{ANUt@iA~@wAbA_BVc@Va@r@iAr@mAp@gAn@iA|@}A`AcBn@kAnCaFh@eAl@gAl@mAl@kAl@mAFOTc@JUj@kAl@mAx@eBj@qAj@mAj@qAj@oAv@gBh@oAf@qAf@kAj@sAp@eBt@kBb@kAN]h@yABIl@aBp@gB~@oCn@iBRm@v@{Br@yBj@iBh@}Ad@{Af@cB`@kAFUbA}CDQr@yBl@iB^mAHU\\\\iA\\\\cAV{@h@_B\\\\cA\\\\eAV}@Rm@BGXy@X_APg@Vy@HYf@{Aj@eBl@kBl@mBj@kBd@yAHUh@cB`@oA`@qA~@qCh@gBTu@p@sBHWv@aClAwD~@sCz@kCr@{B`@qAX}@b@sAx@iCx@eCn@oBl@qBz@iCZ{@X_A~@sClAsDZaAj@cBb@kAxAeEn@iB\\\\_Aj@{AzAaEj@{AjAyCfAqCRg@t@kBn@yA`@cAj@uAx@mBt@eBdA_Cr@aBL[hCwFp@yAl@qAXk@N[zA}CbBiDN[z@eBr@sA?A|BkEfBeDvAiCn@mATa@x@yAJQ~AsClAsBZi@vBoDbC}Dp@gAfAeBDGj@}@t@iAj@}@h@y@Xc@`BcC~@yArAmBr@aAd@o@Va@d@o@nBoCpAiBnBkCxBuCfCcD`D_Ez@cA~AmB~AoB`BkBxAeBxAaBpD_ElAsAlAoArBwBj@o@r@s@pBsBdBcBLODCnAoAPOjCgCfE_EvDiDtDcDTS@ADE\\\\[zAoA?Ax@o@l@g@dBuAh@e@pB}A~AoA`Au@t@k@\\\\WhBuAl@e@h@a@h@a@jBsAvCqB|EiDzAcA~B{AxAaA|CmB`BcA\\\\Sn@a@NILG@CPIfBeAdAm@bCwAfCwAbAi@lAo@HE|Ay@bAi@`Ag@dAi@`Ag@`@SLG`Ag@n@[zAu@hDaBtCqA|As@n@Y`DuAtB}@lFwBpBw@jCcA~Ao@bAa@rBw@dG_CfAc@`A_@p@WdAc@dAa@~OgGjCeAdAa@|Am@tAk@lAc@bAa@vBy@dAc@~Ao@xAk@jBy@h@Uj@UJGj@WjAi@dAg@lB_AtBcATObAi@bAg@nBgAbAk@tBmAXQv@e@l@_@j@]j@_@j@]d@YFEj@a@l@_@JI`Aq@TODAb@]~@q@zAeAlA_AvAeAdBuAh@c@rAgAfByApAiAh@a@j@e@z@u@j@c@fBuArAeA`As@~@q@`As@xCuBx@i@hAw@l@_@`Am@xCiBbAk@xA{@v@e@`@SbAk@xAw@j@[l@[|Aw@`Ae@l@[l@YbAe@ZOh@UfAg@^QBA\\\\OnCmAbAa@n@WdE}AfBm@dBm@dCy@xC_AvIcCbG{AnBc@j@KlDu@vDs@ZEbCc@~F{@PEfBUlCY|BWdFg@zBWpDa@hAOvBYfDe@`AM~AYpEy@rB_@b@IfAS`Do@rCq@fB]xEmArCs@d@Md@Mz@Ul@OfBg@`A[tAa@jBm@~@[|Bs@xCeA~@[fBk@~DmABAlBi@zBo@fAYvA]fBc@vBe@PEjAWjB_@h@KrCi@dEs@rB[jBYzBY`BSvBYxD_@rBOhCUfAKzBO`DQvBKrAEpBGvAEbBClAAz@C`A?p@@t@?`@?`BAjA@pD@B?v@@hB?|EDvC@~D?z@@xA@~A?fBAjAAhAA|@A@?vHKvAErFMjEKtEOtESrQ}@vHe@`Mq@bIc@nKm@pToAtHc@bFYjDSfDOVAnAM~@GdAEXCxAIf@CxBOhAErAIrBO`Im@p@GxDa@pCW^G\\\\GTCp@Ip@Ip@IfAOjAQjAQfAOnASzAWZEBAPCNEPChAQ|Bc@bB]t@Ot@OREp@OhAUt@QnAYVIn@MfAYbAUbCo@f@MjEmAnBm@xBo@|Bs@vAc@pAe@vEaB~@]pBw@dBm@p@WlDmA@A|Ai@`Bg@hA[dEoA~@WlIsBnBg@vCo@|EaA`J}ApBYpHeAbAO`@EXEXEpAKt@IhAI`AIfAI~@IlAIfAKvCOvBM~DQfAE~@E|ACl@A`@A~AClACjBAt@AfA?zCAZAZ?j@?\\\\@n@?fBDZ@V@Z?R?V?F?RAT?b@AR@r@?r@BT?|@@dAFb@BTBz@ND@dADnAFpAFtCLr@D`CLpBJxAHvAHjADZ@p@DpAHzAFpAF`BHt@Dv@DdAFvAFdAFdADt@D~@D|CPnDNbDPnEN\\\\@\\\\BfDTjAFpBHnEVhERrBFnADlABbABhBDj@@b@?~AB|@@hB@tA?xA?fB?lAAp@?nACpBCpBC~ACrBGxAGpAGp@ErAGn@AZEbAGr@Ev@GjAInAIfBORAbAIdCUxAOrBUhBUxAQhBUdBUfBWnB]n@KnCa@xBe@dB_@nAWfASpCo@pDy@jAYfAYzBk@hHuBfDeAfA]hBm@xBw@RIRIVIlAc@`A_@nAc@hAg@dAa@l@Ur@Yr@[lAi@z@]pB{@bAg@f@W@?dB{@bAe@fAi@hAm@ZOdAi@x@c@~@c@jAo@XMdAm@r@_@pAq@fAi@p@_@nAo@t@_@l@[XOj@[b@Qz@e@rAq@n@]lAo@n@[vAw@dAk@p@]\\\\Qt@_@d@Wz@c@nAq@b@U|@c@XOt@a@t@]zAw@vAu@v@_@r@]jBaA|Ay@fAk@`CoAj@W^Ux@c@|@e@dAi@|@c@~@g@v@a@fAk@tAq@hAi@x@a@hAi@|@a@z@a@z@_@bAc@pB{@fAc@vB}@xB}@bC}@jDoAdEyAjAa@tBq@lA_@fBi@tAa@~@YpA]rA_@`AUr@Ut@Qr@QdAYdBa@`B_@lAWnBc@xA[jAUxBc@x@OnCg@zDo@hFu@bGw@pAQr@I\\\\EjAM|Dc@~AOpBOrHq@zIw@nCWrDWhCWvr@cGxAMdHm@nR_BlAMv@IlIaARCb@GpF{@tGiAvBc@~A]vCq@PE`@K`@KfBe@fFuAVGTI^KlA_@nFgB`@M`A]tDwA~B{@rD{AhFcC~DmB`D_B|BmAvAy@p@_@rBmAlAu@|@m@x@g@rA}@vA_AtCqBjA{@lBuAhDmCxAkApBcBzCmCnAgAtAsAjCgCrBqBnBwB`HsHfCiCrDaEpCwCrC_DbCgCfFwFhDqDhBmBvDcEhFwFfFuF`@e@JMn@o@h@k@nAqAzA{AjAoAbC{B~CsCnAeAfCwBjDsCxDsCl@e@lCmB~DmCjAu@bAo@fBiAvCcBt@c@|CcBhB_A~C_BnB_ApB_AvDaBdAa@v@]pAg@~Am@xAi@|By@bGkBhCs@|GiBbDy@pDy@|@QhDs@|Co@zDw@fSgE`@I`@Kr@MZGTE~Be@rCi@zBa@pASn@Il@IvAQb@Gr@IjAQl@KbBUdBUb@GbAKVEr@ItBWzBUvC[@?n@GZCB?zAQbCS`DU~AKVATAn@G`EUr@EjAGnDOxCKjEMnCIfBC|AChEGvFAjB@bLDxCBzCDtCLxBD|CJv@BpDNx@FdCLvBNhAFtBPpAHpBP|@HlBPzANbBNlAL~ANp@FjANhALt@Jp@JxBXbBV|ATt@JvBZp@Jr@J~AVbARdB\\\\r@PnATtB^fDr@rAXv@P`Cf@jDx@tFtAlCr@pHxB`EnAdA\\\\lAZtBt@dDdArE`B|DzAnCdA|Al@dAd@~An@dCbA`Ab@VJn@Xl@Xp@Zj@V|Ar@xAp@~@f@~BlAjB~@xAv@tAt@|Az@zAz@bAh@JFnBdApAr@p@`@z@b@zAv@nAr@|A|@hB`A`B~@nDrBlAr@nAr@p@`@nAr@hBbAh@Zl@\\\\tAt@x@d@~@h@t@^z@h@z@d@t@`@f@Xr@`@n@\\\\d@XzAx@pAv@f@Vb@VTLTLj@Z`Ah@z@d@vAx@rEfCh@ZtBjAh@Zt@`@`Aj@d@Vt@b@p@^p@^j@Zn@^v@`@h@Zl@\\\\`Aj@h@XnBfArBjAlDnBbB~@zBnA|Az@nBhAjBdA`Ah@`Ah@~@h@z@d@p@^|BnA~@j@l@\\\\`Ah@fBbApAt@~A|@jAn@zAv@f@XvAt@xC~AtBdAjAh@fAh@tAp@j@VZLXLh@VxAj@z@^jAb@~@\\\\fA`@j@Pt@VTHVHb@Nn@Rj@Px@T|A`@nD|@v@PxDv@hDl@xCd@jALnBV\\\\Dr@Fj@Fl@Fj@DbAHZBZBf@Bv@DZBJ@L@jAD`@Bl@BdAB|@Bv@@hBBB?^?`@@X?jA?l@Ab@?tAA\\\\?lAChACfAEf@Cb@An@EfCM~@GlAIp@G`AIdAK@?`@ERCfAM`AM`@GzASb@IdAQ^GlB]dASt@OrA[BA|Bg@fBc@dAY^Ip@UhA]d@Qz@YbA[f@On@Ux@Y~@[tAg@TG|@]j@Sb@OjBm@vDmAbA_@fBk@`Bm@nBs@v@WbA_@~Ak@vBu@rBs@NEn@SZK|@]pAa@pJiDn@SpBs@RGv@YzAe@j@QtAc@h@Qr@Sv@UfBe@|@W`@KXG|@S|A]j@Kv@QvAWr@Mn@KdAOr@KpAQbBSzAOnAKT?TEr@Eb@C~AIdAE`@C`@Ch@AT?FATA\\\\?PAxFCn@?^?Z?t@?p@@dCFp@@dBHxBL`BLL@f@Bz@HdAJt@HN@b@Fj@Fj@Ft@JfAN|ATl@Jd@Jb@J@?r@NhATn@NVFzBh@~A`@HBlA^nA^p@TVJl@P`DfAv@Zp@VB@lAh@ZNfBx@hD`BnCxApDtBf@ZTNdAp@@@NH|@l@?@l@`@h@\\\\~@p@h@b@j@b@RNh@d@h@b@j@f@RPjB`Bt@p@@@d@b@l@j@x@x@f@f@NNTVf@h@RRd@h@x@|@VZ`@d@FHp@v@t@~@\\\\`@X^t@~@VZX^TZBBdArA^h@b@j@dAvAfAvAdAxAz@fAV^DDdAxAfAxAt@bAt@`AjGtIZ`@?@j@r@bBzBnBjCbCbDtCtDf@j@f@l@f@h@d@h@jAlAh@f@f@f@d@b@|@t@j@d@h@b@|@p@~@p@h@\\\\DBb@ZbAj@f@Zp@^h@XRJl@ZbAd@n@Vl@Vl@Tn@Vj@Rp@Td@NHBVHVJfAZhAZfAZn@PhAZp@RhA^dA\\\\VHB@THf@LlATn@JTFXHdAXt@ThAXn@PxBl@pBj@\\\\Hr@Rp@RhAZXJp@PhBh@`@Nl@Pp@TxAd@`@Nn@Tb@PHBd@PbA`@jAf@`A`@h@V`@PNH`Ad@fAj@pAr@TL^TRLz@f@fAp@z@j@dAr@zAfANLLJxAhAz@l@h@h@|@t@PPbA|@jBhBdBdBbBhBv@|@lArAjAtAvBhCxAfBRTX^Z\\\\r@|@|AjBb@h@jAhA^^RRh@j@nA|ALNbAhAHJXZf@h@RPb@`@j@d@bAx@|@p@h@`@@@^V`@Vh@^t@`@d@Xl@Zf@VB@l@Zn@Vj@Vv@ZNFPFt@XVHl@Rl@Pp@Pp@NfAVhATr@Lr@JfAJn@FTBT@R@N?X@R?t@@X@@?XBlALr@HV@p@?Z?n@AlAAf@Az@EZCbBMZCp@Gb@ENCr@Ip@Ml@KZGtCm@hAYp@KXGVEr@OTEVGNADAZCp@GXEn@MjASp@MxB]lAOr@GZEp@GVAr@Ep@Cr@ClACn@CV?Z?r@@bB@Z@VDXBVDXFZFf@Fd@HF@l@Ln@Lp@LRDx@THBz@Vz@Vz@Zh@RDB`@PLDf@TJFz@b@XN`Ah@FDLFTPTNRJl@`@zAjAn@h@TTDDd@`@z@x@TVd@f@fAnAl@t@Z\\\\@BVZLNf@n@t@`An@x@DFj@t@LNJNf@n@`@d@|AlBPRf@j@z@~@r@v@vAzAv@t@nAnAz@z@rArAd@b@ZZPNf@d@ZZJJl@j@NNJHp@l@fBxA|@t@RPj@`@j@d@h@`@f@`@v@h@lBlAtAfAdAt@z@p@fAx@t@n@h@b@lAjAx@v@d@f@`@b@f@h@RVj@r@h@p@jA~Ab@n@`@j@`@l@RXBFX`@r@fARZHLHLX\\\\RXT\\\\\\\\`@VZLPf@h@?@j@j@b@b@BB\\\\ZFFVTXRPNVPPNVPFDb@Xp@`@|@d@p@Zp@ZVJzAj@ZLbA\\\\RHRHvAh@`@N\\\\Jp@VTJTLHB|@b@~@h@j@\\\\TPJFHHRLTPh@b@TRHHHHh@f@BBj@j@^`@d@j@b@j@d@n@HLHJp@fA^n@\\\\n@P^JPJRRd@Td@FLHRHPRd@P`@Zx@JTx@pBFN^z@FN^x@Rd@HN\\\\r@BBRb@BDR\\\\LT`@r@^j@RXPXb@j@NRLNX\\\\LLl@p@FFLLNLl@j@`@\\\\DD\\\\VLLNJZTdAn@ZRb@Vr@\\\\ZL`Ab@LDJDTF`@N`@LHBr@Pp@Pf@Jx@LdBZP@PBbAJ\\\\DX@T?v@CnAMp@C\\\\Cp@G`@E\\\\E`AMlASjAUzA[b@KdAWp@Qt@Ot@ShAU\\\\Ip@KdAQ`@GTCp@ITC^CBAdAIB?^AXCH?rAC\\\\?b@?`A@@?^@bADx@DlAJx@H|@JlKvAb@F^FxCd@jAT~AXZFv@Pr@LNBPBF@~B\\\\N@l@Fj@DjCVtCZn@DhBNb@Bh@B`@BR@^?P@X?p@?l@@lA@b@?TAV?VA\\\\ERCb@I@AZG~@Qr@Ob@In@Mr@QBARGHAPEf@Kl@OZKl@YxAw@pAq@nAs@DCVQHGZS^U^WXSdAq@b@YZSNK^YXW^[b@]d@_@LKLKNIBCPMn@a@j@]PI^S^QHCLGd@QBAxDyAr@UVIFATGPEVGXGPC`@GnAMn@GvAE~@At@?V?R@T@D?P@P@H?ZBr@Fh@Db@FXDf@Fb@J^HjAXn@PVHF@PFNDb@NzAd@t@XjCz@\\\\LTF\\\\JB@fAZ^Jj@Ll@Np@NnARZFRBn@HVBtALt@BnADn@Br@Bn@@j@?`@CVAXALCH?\\\\Ep@KNCb@G~AWf@K^G`@Il@Od@Mz@WfA]vBs@hDmAjA_@vAe@hA]rA_@PEREXIvA[n@KdAMp@Gt@InAKfAEpAAnA@zADp@Dn@FXBh@F^D@?XFF@b@F`@FVFp@N\\\\Hl@Nn@Rj@PFBTFBBh@Rd@PRJr@ZXNn@\\\\h@\\\\RLDBVNVNHF\\\\TVP`Av@b@\\\\j@d@h@d@nAlANNTRDF\\\\Z@@b@b@PPPRZ\\\\XXTTf@d@RR`@\\\\XV`@^FDZX\\\\Xn@d@p@^h@Xh@Tn@Zl@Xp@V|@\\\\l@P\\\\JPDr@Nn@Nl@Jr@Lr@Fp@Fr@Fp@Br@@d@@n@ApAAf@Cn@GRAh@G\\\\Cn@KjAUNCr@Qx@UVI\\\\Kh@Sp@YNGHEj@WJGb@Sj@]d@WHGVQhAs@XSPM~@q@|@q@l@c@VQRQ`Aq@j@c@h@_@`@Yd@[NMXSt@e@XSj@[d@Yr@c@j@YNIFEj@[n@[VMTKVMXMXMDA`@Qb@S~@]BAjAc@~@YfBi@xAa@nCm@\\\\Gp@Mn@Mp@Kt@Kr@K^GZGXGb@Ed@Ir@Kp@Kn@MXEp@Mr@KhAQl@KZE`AMp@Kt@Kp@Kp@K\\\\GTCl@Kl@I~@ObC_@F?`AOfAMFA`AM~@ODAn@IhAQhAQbAMl@I@Ab@ENCl@Ip@Ir@IZCr@It@Gn@Er@Gr@Ep@CRAhAEr@AJ?j@Al@?h@?d@Bl@@^@ZBr@Bp@DD?b@BR@N@VBd@B`BPl@Dj@Fv@JTDZDb@FD@p@Jr@NXF`AXH@d@Nl@PnA\\\\hA\\\\~Af@hA`@l@VbAd@n@XXNhAj@fAn@XN^TB@XRJFl@^DB|@j@^V\\\\TTN`Ap@v@h@~@p@VPr@h@j@^~@p@~@p@fBnAdAt@pA~@bAt@tA`Ah@^lBtAlAz@bAt@nA|@v@j@h@^|@r@VTTPTPhBxA~@n@n@b@HDx@l@t@f@d@Xx@f@p@^TLl@Zl@Vh@PJD`@N@?VHZJj@PBBh@NXHRDND\\\\HB@x@Lt@Fn@FXDlAHbAB|@@V@fAAl@CZAr@EZCRAp@IlAQbASfAWlA_@r@WRIfAe@`Ac@p@_@|@g@f@[n@a@z@k@|@o@BCXQBCz@m@bAu@dAu@~@o@`Aq@n@c@RORMx@i@j@_@f@Yl@_@~@g@l@[l@Yj@Yv@[j@Uh@Sj@ShAa@fA[x@UJCdAWf@Kv@Op@Mr@MfAQx@In@Gp@Gl@Er@Gr@Cn@CZAp@ChAAr@?n@?p@?T?\\\\?p@@lABp@@r@@j@@p@@X@r@@Z?l@@X?t@@dA?J?fAAl@A^?n@Cp@Cr@EhAGhAKt@GhAOr@KdAQn@Kf@KNEZGNERE`@Kb@Mz@UVItBq@PG^Oh@Qb@QPGxCiAfAc@^O?ADAXKHCXMDCDAzAo@v@YTMbBs@rBy@hAa@v@Y`@KxAc@TGXGZGXGt@Mf@IZGVC`@EVANAlAIZ?bAEj@?pA?`ABdADfAFH@jAP|B\\\\nCj@b@Lb@JdB`@zA\\\\l@Nb@JfBT`BR~AFL@zCBtBKrBUfCa@lBg@JCn@U^Ox@[p@[n@[z@c@n@]h@[h@]~@k@\\\\U\\\\WxDeCxGeE~CuBrD_ClDyB@AhHsEl@a@VOVQxEuCFEx@i@rCeB~@k@j@]vAy@dCwArC}Ad@WxC}ApDgBfCkAnB{@TKTIxD_BhAe@|@]vCeA`J}CnC_AdA_@rBo@~CiAt@Y~CkAdDqAn@WdCeAZMdCeAnEoBpB_AZMZOnAo@dCkAbD_B~BmAjCuAfAm@lBcAlC}AbCuAzBsAzBuApBoAnBmAlCgBdFkDt@i@|BaB|BaBJIlBuA?AXSBAvBeBn@e@TSv@k@`Aw@v@m@v@m@fA{@h@a@~@s@zCaCjBgBfAaA^]d@c@XYVYVWb@a@p@s@^a@JGbQyO`GmFnAgA`A}@z@w@vBkBhB_BfBuAx@m@`Ao@nAu@tBiA|Au@~Ao@pBq@hCq@fCg@zAUhBSxBSfCMfBAfA@pBFlCPj@BxAFtAHbBHzBJ^@^Bj@@xBFlA@xBEt@Az@GnAMj@Ip@Kp@Ov@OxBm@nBk@tBm@l@On@QZGXG|AYbBWn@Gr@EzBA|BJr@Df@Fb@Dp@FhANr@Jn@Jn@Hp@JJ@b@FVDr@Fn@FV@\\\\B`@@`@@j@?`@?\\\\A`AGn@EdBSHArAS~@SnA[jBo@d@Sd@ShAq@BCd@WRQBAz@q@l@i@BAn@i@p@o@r@s@`@_@l@k@BCpCuC\\\\a@'}, 'start_location': {'lat': 38.6024569, 'lng': -8.6533845}, 'travel_mode': 'DRIVING'}, {'distance': {'text': '0.9 km', 'value': 940}, 'duration': {'text': '1 min', 'value': 38}, 'end_location': {'lat': 37.1588868, 'lng': -8.2039148}, 'html_instructions': 'Take exit <b>15</b> on the <b>left</b> for <b>E01</b>/<wbr/><b>A22</b> toward <b>Espanha</b>/<wbr/><b>Faro</b><div style=\"font-size:0.9em\">Toll road</div>', 'maneuver': 'ramp-left', 'polyline': {'points': '_}waFjzbq@HMHIJMRSV[V_@PYN[DOJWJe@H[D[B[B[@M?U?[ASA_@C[CQGc@Ok@M_@Qc@OYMUQSg@i@USc@]]SSO]We@[g@_@MKOMUSYWUUa@e@_@e@GIc@i@k@q@i@s@_@i@_@q@[i@]o@Q[Q_@GKGKGIMO'}, 'start_location': {'lat': 37.1555186, 'lng': -8.211736799999999}, 'travel_mode': 'DRIVING'}, {'distance': {'text': '16.2 km', 'value': 16178}, 'duration': {'text': '9 mins', 'value': 515}, 'end_location': {'lat': 37.12045519999999, 'lng': -8.0403684}, 'html_instructions': 'Merge onto <b>A22</b><div style=\"font-size:0.9em\">Toll road</div>', 'maneuver': 'merge', 'polyline': {'points': 'arxaFliaq@c@mAKUCICEIW?AYm@GWk@{Ac@mACGACAAAECECIAEu@qBIWIW}@iCcAuCw@}B]kA]qACGAG?AAGCGAGAGAAAEAGAG?CCGAGAG?CA?AGAG?CAGAGA??CAGAGAGACAGAG?CAGAG?AAA?GAGAGACAG?GACAG?G?AAGAG?AAGAG?IAGAGAG?A?GAG?AAG?G?AAG?GA??IAG?G?AAG?G?EA??G?GKaD?aCB}@B}@JuBH_AJeAL_A\\\\qBb@{BjAiFt@qDNo@DWDWbBmJ\\\\qB\\\\uBZmBVyARcAPu@Lk@l@sBd@sA`@gATe@FQHO@EBE?A@?BGBE?ABE?ABEBE@ABEBG@ABEBE?ABCBGBGDE@C?ADEBE?ABCBE?ABEBEBC?ABEDE?ABC@CBEDE@EDEBE?ABCBEBCBEBG@?BEDE?ADEBE?A@?BEDE?ADEDEBE?A@?BEBE@?DE@CDEDEBEDE?ADCDEBE@??ADEBEBCDCBEDEBCDEBCDEBCDEBC?ABCDCBEDEBCDCBEDCBEDCBEDCBCp@o@f@g@h@m@r@u@x@_APWDEDEBE?ADCBE?ADEBEl@}@j@{@x@{Aj@iAPa@fAiC?ABE@E@A@GBE?ABE@EBE@EBEHWJW|AaE`BgEfCaGnBkERa@`@w@j@kAx@aBz@cBTg@b@}@t@kBZy@d@{AV_Af@sBb@aCRaBD]B[Fa@Do@B]Do@Bo@Bo@Bo@@w@?e@?w@?o@AqAC]Cm@Cy@ImAIiAGs@MwAQoBC_@E]Iy@c@eFq@aIe@gFWwCQmBSgCOaBKmAOkBCUGw@ImAG}@E_AEeAEoAGmB?QAq@CcBAaA?u@?yA@yA@_B@iC?eA?a@?a@AiFCeACyBEoB?CI}BGmBEcAEgAE_AG}@E}@G{@G_AG}@G}@Ee@GeAIyAGsACgAAi@AW?U?S?q@?y@@k@@c@@m@Bo@@KBg@?EDk@Fy@F_AHo@Fg@Fm@@IFa@Fo@D]L}@RmAP{@Li@Lc@Rq@Xy@Ti@\\\\u@P_@JQZi@T_@NUd@{@JSHK^o@PWn@cA|@kAHIjB}Bp@u@hAwALO@?HMPQ`GmHjEmFPQBE~GgIDEfCyCtCsDZc@hA_Bv@qAf@w@z@eBxA_DrAiDtAwD~AoEL]vAqD~@oBVi@Vg@JQt@sAx@yAj@y@n@aA^g@jA}Ax@_AdAmAVYlAuAHINSRW`@e@d@m@dAsAjA}AXc@^i@`@o@^o@FKBGLUHOVe@b@y@\\\\q@Vm@`@y@\\\\y@Xu@Tm@Xu@X{@To@X_AZiAVcAXkAT}@b@uBVwAZgBJi@XiBJk@Hc@ZcBNy@RcAPy@FUF]R}@T_ANs@VaANo@Ry@DQNi@Ty@Ty@DO@CFW@?FUBKNg@d@yAl@qBf@}Ad@yANg@d@}A`AuC\\\\iAHW\\\\cATs@n@sBl@mBvA{ERs@?ABKRy@BINo@Ns@RcAP{@N_ALy@F_@D[BO?AFg@Jw@B]Hy@H{@NmBFgADeAD}@@Y@g@Bk@@gA?a@@uA?y@?oACaAA_AGmBIiBEo@S}CKsAQkCSuDIgCCgBAsABkCDmBTgEL_Bd@}DN}@d@iCP}@DMP{@Lk@TeAb@eBDU^_BPo@DWHYNq@XoAb@kBVeA`@eBb@iB^_Bd@qB^aB\\\\yAH[XqA^_BT}@f@{Bj@mCF_@Nu@Ls@PmAJq@?GHk@NqANwADe@JyADo@Bg@HqA@Y@WBw@BgBBgB?aCAiACuACu@AY?CA_@A[S_Ec@aGYaEGu@SmCOyBOyBSiDMqCCiAEmB?oB?KBY@aABw@'}, 'start_location': {'lat': 37.1588868, 'lng': -8.2039148}, 'travel_mode': 'DRIVING'}, {'distance': {'text': '2.8 km', 'value': 2759}, 'duration': {'text': '3 mins', 'value': 166}, 'end_location': {'lat': 37.138135, 'lng': -8.0282792}, 'html_instructions': 'Take exit <b>12</b> to merge onto <b>N396</b> toward <b>Loulé-Centro</b>', 'maneuver': 'ramp-right', 'polyline': {'points': '{aqaFhkap@Lm@Fq@BS@C@I@C@C?ADIJMDEHEFCHCFCF?@?D?B?HBH@HBFFFFDF@BFHBFBL@HBT?LAL?@AHCJABCDCF?@EFEDGDOHKDQHMHqDJY?e@@w@Au@Ew@G[Eu@Ka@Iq@Sc@Mi@Us@[_@SAAoAw@m@e@c@_@{@w@cAeAiEoE{A_BkAkAOQKIs@o@k@e@]Ss@_@[OYMm@SKEuA]KAc@Gs@Ia@Ao@Cu@@s@Bu@HYDiB\\\\uAZa@FWDWDY@U@[AMAQCQCUGSGWM_@QOKQQUQEEKOKO[i@m@aAMUOWWa@?AUa@OWg@}@kB_Dk@eAMc@AEAE@C@A@C?A@A?C@A?A?C?A?C?A?C?A?CAA?AAC?AAAAAAA?AAAAAAACAA?AAA?A?A?A?A?C?Ka@GQa@cBi@uBOa@EKGK[k@AAoB}BOQAAMMS]EEiAwACC[YCCa@S'}, 'start_location': {'lat': 37.12045519999999, 'lng': -8.0403684}, 'travel_mode': 'DRIVING'}, {'distance': {'text': '0.2 km', 'value': 204}, 'duration': {'text': '1 min', 'value': 24}, 'end_location': {'lat': 37.1376796, 'lng': -8.0261782}, 'html_instructions': 'At the roundabout, take the <b>1st</b> exit onto <b>R. Eng. Duarte Pacheco</b>', 'maneuver': 'roundabout-right', 'polyline': {'points': 'kptaFv__p@?A?AA??AAAA??AAAA?AAA?COAG?MAWHSBG\\\\uAdAeF'}, 'start_location': {'lat': 37.138135, 'lng': -8.0282792}, 'travel_mode': 'DRIVING'}, {'distance': {'text': '58 m', 'value': 58}, 'duration': {'text': '1 min', 'value': 15}, 'end_location': {'lat': 37.1381795, 'lng': -8.026022}, 'html_instructions': 'Turn <b>left</b> onto <b>R. do Matadouro</b>', 'maneuver': 'turn-left', 'polyline': {'points': 'omtaFrr~o@GGGEYGa@GWA'}, 'start_location': {'lat': 37.1376796, 'lng': -8.0261782}, 'travel_mode': 'DRIVING'}, {'distance': {'text': '84 m', 'value': 84}, 'duration': {'text': '1 min', 'value': 22}, 'end_location': {'lat': 37.1380324, 'lng': -8.025095199999999}, 'html_instructions': 'Turn <b>right</b> onto <b>Tv. Charles Bonnet</b>', 'maneuver': 'turn-right', 'polyline': {'points': 'sptaFrq~o@@M?EJoANsA'}, 'start_location': {'lat': 37.1381795, 'lng': -8.026022}, 'travel_mode': 'DRIVING'}, {'distance': {'text': '62 m', 'value': 62}, 'duration': {'text': '1 min', 'value': 22}, 'end_location': {'lat': 37.138578, 'lng': -8.0249659}, 'html_instructions': 'Turn <b>left</b> onto <b>R. de São Paulo</b><div style=\"font-size:0.9em\">Destination will be on the right</div>', 'maneuver': 'turn-left', 'polyline': {'points': 'uotaFzk~o@YEu@K]G'}, 'start_location': {'lat': 37.1380324, 'lng': -8.025095199999999}, 'travel_mode': 'DRIVING'}], 'traffic_speed_entry': [], 'via_waypoint': []}], 'overview_polyline': {'points': 'ozgkFr_uv@vEpPdGnL{D{CcQs^exA}uAsc@_]kq@wTsHyFuFnCgIlVeYtCcKuDcd@wCo`AhFyu@pE{c@gAiNbIgGoy@fPcgCbO{e@|iD_hFrpAglBnZid@ra@m~@t^_vAzNs|Az[euA~Hus@k@}_@bA_p@eNku@oAyZhF}Yvl@ct@pqBmo@h_Aq]|e@sH|uAbEj_@eK~\\\\aSbo@gg@he@uaAxc@g`@tUcEb^xBxm@tCv{BuKnc@sChVwMnMmV`Hk_@UwYmLci@cG}d@Zq_@`MscAd@k~@jHiaA}Agk@sPa{@Wis@aVmfA{YavAw[aq@{Koa@i@}`@pOwt@rN}}AwPk~AwMwyBgHsqCdEcj@fQ_`@n^qn@dRuTfVoN`xBuUz~A}Stn@kZz^k[|mBaeBxtAs~@dv@uj@|m@e|@lv@}lBld@ms@~XsVr`@sTpe@cMluBwSty@{Rd}Asy@fqBsiBvt@}a@fj@kL||@Fnz@hRv_Bje@z_Bhx@vv@lLbqDrEh{BfYjmC|w@bx@rHbjAsMzzBgd@j~Be`@jmAik@zw@io@po@gw@`mAi}BzgAeaCjf@keBh`@wdAf_@gg@xa@k\\\\nq@w[jdAor@v~@keAvo@}kAbiAkhDjp@shBv{@a~AvuAu`BvlAm}@zsDiaBjx@el@zeAsj@riCuf@n~A_`@jeBiDpaEcSz{@oNb{Bok@hfA{Ch{@tDraBpF|tA}KhtAwc@jy@ob@zbAyf@lhBad@`iCaUrv@sNh{@a_@xr@oj@ziAenAvv@qn@d|@g_@vjAwVdjAwKzqAN|k@zEbj@dJ`jAh]rpAlp@pjCfyAxiAv`@fp@bCfz@_LdpAcc@d{@oO`x@jDv|@l^le@be@l|@phAdo@`Y~r@xSd{@zr@tg@dd@ve@vHlp@sIth@tDdlAnhAbi@nj@f`@rTpXvZnTn_@hNzHhUnBxl@uHxbAdL`d@oJx^uSr`@bAjl@vHx`@{Kf[wAb]`Np`@dYjVlAhQ_Ffc@}Xp_BkY|d@bAll@|W`w@`j@pe@nCfp@u^vq@eHzj@qDtl@oSlY\\\\rQvDjYiAfd@uWxr@yb@nsBu{@htAc`Anq@wm@zVgLpZkBdf@f@nd@{GbT~BvZoFfWq\\\\{Tu[oRaf@iCeMUmCjBg^zOou@jBwD|AeCxEmF|QyXtTqg@nIi_@}I}uA}B{lAdCwl@lq@s~@|]}s@xUk[hXqv@~R}t@lNov@eB{l@zFym@dTagAsCsuAnDg@aB~BqX_EuZwWcVd@iH}BaK_RWcAaNqU`ByKsDqF'}, 'summary': 'A2', 'warnings': [], 'waypoint_order': []}]\n"
     ]
    }
   ],
   "source": [
    "print(directions)"
   ]
  },
  {
   "cell_type": "code",
   "execution_count": 39,
   "metadata": {},
   "outputs": [
    {
     "data": {
      "text/html": [
       "<div>\n",
       "<style scoped>\n",
       "    .dataframe tbody tr th:only-of-type {\n",
       "        vertical-align: middle;\n",
       "    }\n",
       "\n",
       "    .dataframe tbody tr th {\n",
       "        vertical-align: top;\n",
       "    }\n",
       "\n",
       "    .dataframe thead th {\n",
       "        text-align: right;\n",
       "    }\n",
       "</style>\n",
       "<table border=\"1\" class=\"dataframe\">\n",
       "  <thead>\n",
       "    <tr style=\"text-align: right;\">\n",
       "      <th></th>\n",
       "      <th>copyrights</th>\n",
       "      <th>legs</th>\n",
       "      <th>summary</th>\n",
       "      <th>warnings</th>\n",
       "      <th>waypoint_order</th>\n",
       "      <th>bounds.northeast.lat</th>\n",
       "      <th>bounds.northeast.lng</th>\n",
       "      <th>bounds.southwest.lat</th>\n",
       "      <th>bounds.southwest.lng</th>\n",
       "      <th>overview_polyline.points</th>\n",
       "    </tr>\n",
       "  </thead>\n",
       "  <tbody>\n",
       "    <tr>\n",
       "      <th>0</th>\n",
       "      <td>Map data ©2022 Inst. Geogr. Nacional</td>\n",
       "      <td>[{'distance': {'text': '269 km', 'value': 2685...</td>\n",
       "      <td>A2</td>\n",
       "      <td>[]</td>\n",
       "      <td>[]</td>\n",
       "      <td>38.786639</td>\n",
       "      <td>-8.024966</td>\n",
       "      <td>37.119512</td>\n",
       "      <td>-9.128909</td>\n",
       "      <td>ozgkFr_uv@vEpPdGnL{D{CcQs^exA}uAsc@_]kq@wTsHyF...</td>\n",
       "    </tr>\n",
       "  </tbody>\n",
       "</table>\n",
       "</div>"
      ],
      "text/plain": [
       "                             copyrights  \\\n",
       "0  Map data ©2022 Inst. Geogr. Nacional   \n",
       "\n",
       "                                                legs summary warnings  \\\n",
       "0  [{'distance': {'text': '269 km', 'value': 2685...      A2       []   \n",
       "\n",
       "  waypoint_order  bounds.northeast.lat  bounds.northeast.lng  \\\n",
       "0             []             38.786639             -8.024966   \n",
       "\n",
       "   bounds.southwest.lat  bounds.southwest.lng  \\\n",
       "0             37.119512             -9.128909   \n",
       "\n",
       "                            overview_polyline.points  \n",
       "0  ozgkFr_uv@vEpPdGnL{D{CcQs^exA}uAsc@_]kq@wTsHyF...  "
      ]
     },
     "execution_count": 39,
     "metadata": {},
     "output_type": "execute_result"
    }
   ],
   "source": [
    "pd.json_normalize(directions)"
   ]
  },
  {
   "cell_type": "code",
   "execution_count": 40,
   "metadata": {},
   "outputs": [],
   "source": [
    "def flatten_column(data, column):\n",
    "\treturn pd.DataFrame(dict(data[column])).T\n",
    "\n",
    "def flatten(data, col_list):\n",
    "\tfor col in col_list:\n",
    "\t\tflattened = flatten_column(data, col)\n",
    "\t\tunpacked_col_names = [str(col) for col in flattened.columns]\n",
    "\t\tflattened.columns = [col + \"_\" + colname for colname in unpacked_col_names]\n",
    "\t\tdata = pd.concat([data, flattened], axis=1)\n",
    "\t\tdata = data.drop(columns=[col])\n",
    "\treturn data"
   ]
  },
  {
   "cell_type": "code",
   "execution_count": 41,
   "metadata": {},
   "outputs": [
    {
     "data": {
      "text/html": [
       "<div>\n",
       "<style scoped>\n",
       "    .dataframe tbody tr th:only-of-type {\n",
       "        vertical-align: middle;\n",
       "    }\n",
       "\n",
       "    .dataframe tbody tr th {\n",
       "        vertical-align: top;\n",
       "    }\n",
       "\n",
       "    .dataframe thead th {\n",
       "        text-align: right;\n",
       "    }\n",
       "</style>\n",
       "<table border=\"1\" class=\"dataframe\">\n",
       "  <thead>\n",
       "    <tr style=\"text-align: right;\">\n",
       "      <th></th>\n",
       "      <th>copyrights</th>\n",
       "      <th>legs</th>\n",
       "      <th>summary</th>\n",
       "      <th>warnings</th>\n",
       "      <th>waypoint_order</th>\n",
       "      <th>bounds.northeast.lat</th>\n",
       "      <th>bounds.northeast.lng</th>\n",
       "      <th>bounds.southwest.lat</th>\n",
       "      <th>bounds.southwest.lng</th>\n",
       "      <th>overview_polyline.points</th>\n",
       "    </tr>\n",
       "  </thead>\n",
       "  <tbody>\n",
       "    <tr>\n",
       "      <th>0</th>\n",
       "      <td>Map data ©2022 Inst. Geogr. Nacional</td>\n",
       "      <td>[{'distance': {'text': '269 km', 'value': 2685...</td>\n",
       "      <td>A2</td>\n",
       "      <td>[]</td>\n",
       "      <td>[]</td>\n",
       "      <td>38.786639</td>\n",
       "      <td>-8.024966</td>\n",
       "      <td>37.119512</td>\n",
       "      <td>-9.128909</td>\n",
       "      <td>ozgkFr_uv@vEpPdGnL{D{CcQs^exA}uAsc@_]kq@wTsHyF...</td>\n",
       "    </tr>\n",
       "  </tbody>\n",
       "</table>\n",
       "</div>"
      ],
      "text/plain": [
       "                             copyrights  \\\n",
       "0  Map data ©2022 Inst. Geogr. Nacional   \n",
       "\n",
       "                                                legs summary warnings  \\\n",
       "0  [{'distance': {'text': '269 km', 'value': 2685...      A2       []   \n",
       "\n",
       "  waypoint_order  bounds.northeast.lat  bounds.northeast.lng  \\\n",
       "0             []             38.786639             -8.024966   \n",
       "\n",
       "   bounds.southwest.lat  bounds.southwest.lng  \\\n",
       "0             37.119512             -9.128909   \n",
       "\n",
       "                            overview_polyline.points  \n",
       "0  ozgkFr_uv@vEpPdGnL{D{CcQs^exA}uAsc@_]kq@wTsHyF...  "
      ]
     },
     "execution_count": 41,
     "metadata": {},
     "output_type": "execute_result"
    }
   ],
   "source": [
    "dirs_df = pd.json_normalize(directions)\n",
    "dirs_df"
   ]
  },
  {
   "cell_type": "code",
   "execution_count": 42,
   "metadata": {},
   "outputs": [],
   "source": [
    "driving_dirs = pd.DataFrame(dirs_df[\"legs\"][0])"
   ]
  },
  {
   "cell_type": "code",
   "execution_count": 46,
   "metadata": {},
   "outputs": [],
   "source": [
    "test = pd.DataFrame(pd.json_normalize(driving_dirs[\"steps\"][0]))"
   ]
  },
  {
   "cell_type": "code",
   "execution_count": 44,
   "metadata": {},
   "outputs": [
    {
     "data": {
      "text/plain": [
       "7.035242290748899"
      ]
     },
     "execution_count": 44,
     "metadata": {},
     "output_type": "execute_result"
    }
   ],
   "source": []
  },
  {
   "cell_type": "code",
   "execution_count": 45,
   "metadata": {},
   "outputs": [
    {
     "data": {
      "text/plain": [
       "25.2"
      ]
     },
     "execution_count": 45,
     "metadata": {},
     "output_type": "execute_result"
    }
   ],
   "source": []
  }
 ],
 "metadata": {
  "kernelspec": {
   "display_name": "Python 3.8.13 ('Ironhack')",
   "language": "python",
   "name": "python3"
  },
  "language_info": {
   "codemirror_mode": {
    "name": "ipython",
    "version": 3
   },
   "file_extension": ".py",
   "mimetype": "text/x-python",
   "name": "python",
   "nbconvert_exporter": "python",
   "pygments_lexer": "ipython3",
   "version": "3.8.13"
  },
  "orig_nbformat": 4,
  "vscode": {
   "interpreter": {
    "hash": "ce8daeadbecdf1327004565080c2bef99f3da9e4e2409f5aeeaa17d54b366751"
   }
  }
 },
 "nbformat": 4,
 "nbformat_minor": 2
}
